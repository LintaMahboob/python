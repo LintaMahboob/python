{
 "cells": [
  {
   "cell_type": "markdown",
   "metadata": {},
   "source": [
    "<h1 style=\"color:Blue\">Guess_The_Number_Game</h1>"
   ]
  },
  {
   "cell_type": "code",
   "execution_count": 12,
   "metadata": {},
   "outputs": [
    {
     "name": "stdout",
     "output_type": "stream",
     "text": [
      "Please enter your guess: 12\n",
      "Hit!\n",
      "The No:  12\n"
     ]
    }
   ],
   "source": [
    "import random\n",
    " \n",
    "original = random.randrange(1, 20)\n",
    "\n",
    " \n",
    "guess = int(input(\"Please enter your guess: \"))\n",
    " \n",
    "if guess == original:\n",
    "    print(\"Hit!\")\n",
    "elif guess < original:\n",
    "    print(\"Your guess is too low\")\n",
    "else:\n",
    "    print(\"Your guess is too high\")\n",
    "    \n",
    "print(\"The No: \",original)"
   ]
  },
  {
   "cell_type": "code",
   "execution_count": null,
   "metadata": {},
   "outputs": [],
   "source": []
  }
 ],
 "metadata": {
  "kernelspec": {
   "display_name": "Python 3",
   "language": "python",
   "name": "python3"
  },
  "language_info": {
   "codemirror_mode": {
    "name": "ipython",
    "version": 3
   },
   "file_extension": ".py",
   "mimetype": "text/x-python",
   "name": "python",
   "nbconvert_exporter": "python",
   "pygments_lexer": "ipython3",
   "version": "3.7.3"
  }
 },
 "nbformat": 4,
 "nbformat_minor": 2
}
