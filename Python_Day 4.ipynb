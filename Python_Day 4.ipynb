{
 "cells": [
  {
   "cell_type": "code",
   "execution_count": 1,
   "metadata": {},
   "outputs": [
    {
     "name": "stdout",
     "output_type": "stream",
     "text": [
      "0.9614793994497242\n",
      "0.599522697967889\n",
      "0.9320762285513802\n",
      "0.04925111873924248\n"
     ]
    }
   ],
   "source": [
    "import random\n",
    "print(random.random())\n",
    "print(random.random())\n",
    "print(random.random())\n",
    "print(random.random())"
   ]
  },
  {
   "cell_type": "code",
   "execution_count": 15,
   "metadata": {},
   "outputs": [
    {
     "name": "stdout",
     "output_type": "stream",
     "text": [
      "2\n",
      "2\n",
      "49\n",
      "31\n"
     ]
    }
   ],
   "source": [
    "#random.randint()\n",
    "print(random.randint(1,50))\n",
    "print(random.randint(1,50))\n",
    "print(random.randint(1,50))\n",
    "print(random.randint(1,50))"
   ]
  },
  {
   "cell_type": "code",
   "execution_count": 23,
   "metadata": {},
   "outputs": [
    {
     "name": "stdout",
     "output_type": "stream",
     "text": [
      "1\n",
      "4\n",
      "2\n",
      "4\n",
      "73\n",
      "77\n",
      "72\n"
     ]
    }
   ],
   "source": [
    "#random.randrange() right side number excluded \n",
    "print(random.randrange(1,5))\n",
    "print(random.randrange(1,5))\n",
    "print(random.randrange(1,5))\n",
    "print(random.randrange(1,5))\n",
    "print(random.randrange(60,80))\n",
    "print(random.randrange(75,80))\n",
    "print(random.randrange(70,80))"
   ]
  },
  {
   "cell_type": "code",
   "execution_count": 24,
   "metadata": {},
   "outputs": [
    {
     "name": "stdout",
     "output_type": "stream",
     "text": [
      "4.86461806946353\n",
      "1.4992063455394038\n",
      "2.6813623868681193\n",
      "2.0946406482133573\n"
     ]
    }
   ],
   "source": [
    "#random.uniform() method it return floating point values\n",
    "print(random.uniform(1,5))\n",
    "print(random.uniform(1,5))\n",
    "print(random.uniform(1,5))\n",
    "print(random.uniform(1,5))"
   ]
  },
  {
   "cell_type": "code",
   "execution_count": 2,
   "metadata": {},
   "outputs": [
    {
     "name": "stdout",
     "output_type": "stream",
     "text": [
      "2\n"
     ]
    }
   ],
   "source": [
    "#random.choice() to pick random value from sequence\n",
    "PyList=[1,2,3,4,5,6]\n",
    "print(random.choice(PyList))"
   ]
  },
  {
   "cell_type": "code",
   "execution_count": 3,
   "metadata": {
    "scrolled": true
   },
   "outputs": [
    {
     "name": "stdout",
     "output_type": "stream",
     "text": [
      "99\n"
     ]
    }
   ],
   "source": [
    "print(random.choice((55,22,11,66,88,99)))"
   ]
  },
  {
   "cell_type": "code",
   "execution_count": 37,
   "metadata": {},
   "outputs": [
    {
     "name": "stdout",
     "output_type": "stream",
     "text": [
      "[1, 2, 3, 4, 5, 6]\n",
      "[2, 4, 5, 6, 3, 1]\n"
     ]
    }
   ],
   "source": [
    "#random.shuffle() method\n",
    "PyList=[1,2,3,4,5,6]\n",
    "print(PyList)\n",
    "random.shuffle(PyList)\n",
    "print(PyList)"
   ]
  },
  {
   "cell_type": "code",
   "execution_count": 38,
   "metadata": {},
   "outputs": [
    {
     "data": {
      "text/plain": [
       "[2, 4, 5, 6, 3, 1]"
      ]
     },
     "execution_count": 38,
     "metadata": {},
     "output_type": "execute_result"
    }
   ],
   "source": [
    "#random.sample\n",
    "PyList"
   ]
  },
  {
   "cell_type": "code",
   "execution_count": 40,
   "metadata": {},
   "outputs": [
    {
     "name": "stdout",
     "output_type": "stream",
     "text": [
      "[5, 6, 3, 2]\n"
     ]
    }
   ],
   "source": [
    "print(random.sample(PyList,4))"
   ]
  },
  {
   "cell_type": "code",
   "execution_count": 42,
   "metadata": {},
   "outputs": [],
   "source": [
    "# print(random.sample(PyList,8))\n",
    "# ValueError: Sample larger than population or is negative"
   ]
  },
  {
   "cell_type": "code",
   "execution_count": 46,
   "metadata": {},
   "outputs": [],
   "source": [
    "#print(random.sample(PyList,-1))"
   ]
  },
  {
   "cell_type": "code",
   "execution_count": 54,
   "metadata": {},
   "outputs": [
    {
     "name": "stdout",
     "output_type": "stream",
     "text": [
      "b'\\xf3e\\xf3\\xc6.i\\x03E'\n"
     ]
    }
   ],
   "source": [
    "#The Secret Module of python\n",
    "import secrets\n",
    "print(secrets.token_bytes(8))"
   ]
  },
  {
   "cell_type": "code",
   "execution_count": 55,
   "metadata": {},
   "outputs": [
    {
     "name": "stdout",
     "output_type": "stream",
     "text": [
      "b'\\xd8K\\xcc]'\n"
     ]
    }
   ],
   "source": [
    "print(secrets.token_bytes(4))"
   ]
  },
  {
   "cell_type": "code",
   "execution_count": 56,
   "metadata": {},
   "outputs": [
    {
     "name": "stdout",
     "output_type": "stream",
     "text": [
      "b'PC\\xba'\n"
     ]
    }
   ],
   "source": [
    "print(secrets.token_bytes(3))"
   ]
  },
  {
   "cell_type": "code",
   "execution_count": 57,
   "metadata": {},
   "outputs": [
    {
     "name": "stdout",
     "output_type": "stream",
     "text": [
      "b'\\xa9x\\xecF\\xd2'\n"
     ]
    }
   ],
   "source": [
    "print(secrets.token_bytes(5))"
   ]
  },
  {
   "cell_type": "code",
   "execution_count": 58,
   "metadata": {},
   "outputs": [
    {
     "name": "stdout",
     "output_type": "stream",
     "text": [
      "b'\\xd1\\xe8\\x18S\\xefO\\xfci\\xae`\\xf0\\xf1e0\\xd1\\xc1\\x1ct=Q\\x9dl\\xba8\\xf0/\\xfa\\x96\\x8b\\xc0\\x80Q'\n"
     ]
    }
   ],
   "source": [
    "print(secrets.token_bytes())"
   ]
  },
  {
   "cell_type": "code",
   "execution_count": 59,
   "metadata": {},
   "outputs": [
    {
     "name": "stdout",
     "output_type": "stream",
     "text": [
      "4a0239d516e2e15468b263484fd73f1e120710d42245490f3f49ebc12a73e4ac\n"
     ]
    }
   ],
   "source": [
    "print(secrets.token_hex())"
   ]
  },
  {
   "cell_type": "code",
   "execution_count": 60,
   "metadata": {},
   "outputs": [
    {
     "name": "stdout",
     "output_type": "stream",
     "text": [
      "ed\n"
     ]
    }
   ],
   "source": [
    "print(secrets.token_hex(1))"
   ]
  },
  {
   "cell_type": "code",
   "execution_count": 61,
   "metadata": {},
   "outputs": [
    {
     "name": "stdout",
     "output_type": "stream",
     "text": [
      "60f2\n"
     ]
    }
   ],
   "source": [
    "print(secrets.token_hex(2))"
   ]
  },
  {
   "cell_type": "code",
   "execution_count": 62,
   "metadata": {},
   "outputs": [
    {
     "name": "stdout",
     "output_type": "stream",
     "text": [
      "2c9a15\n"
     ]
    }
   ],
   "source": [
    "print(secrets.token_hex(3))"
   ]
  },
  {
   "cell_type": "code",
   "execution_count": 63,
   "metadata": {},
   "outputs": [
    {
     "name": "stdout",
     "output_type": "stream",
     "text": [
      "a4f56ce1\n"
     ]
    }
   ],
   "source": [
    "print(secrets.token_hex(4))"
   ]
  },
  {
   "cell_type": "code",
   "execution_count": null,
   "metadata": {},
   "outputs": [],
   "source": []
  }
 ],
 "metadata": {
  "kernelspec": {
   "display_name": "Python 3",
   "language": "python",
   "name": "python3"
  },
  "language_info": {
   "codemirror_mode": {
    "name": "ipython",
    "version": 3
   },
   "file_extension": ".py",
   "mimetype": "text/x-python",
   "name": "python",
   "nbconvert_exporter": "python",
   "pygments_lexer": "ipython3",
   "version": "3.7.3"
  }
 },
 "nbformat": 4,
 "nbformat_minor": 2
}
