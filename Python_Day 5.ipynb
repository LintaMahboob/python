{
 "cells": [
  {
   "cell_type": "code",
   "execution_count": 1,
   "metadata": {},
   "outputs": [],
   "source": [
    "#Python Operators\n",
    "#1 Arithematic + - * / // % **\n",
    "#2 Realtional/conditional /comparision < > <= >=  ==  !=\n",
    "#3 Assignment Operator =\n",
    "#4 Logical Operator\n",
    "#5 Membership operator\n",
    "#6 Identity Operator\n",
    "#7 Bitwise operator\n",
    "#8 Ternory Operator"
   ]
  },
  {
   "cell_type": "code",
   "execution_count": 10,
   "metadata": {},
   "outputs": [
    {
     "name": "stdout",
     "output_type": "stream",
     "text": [
      "Add:  30\n",
      "Sub:  -10\n",
      "Mul:  200\n",
      "Exponent:  27\n",
      "Div:  0.5\n",
      "Floor Div:  0\n",
      "Modulus/Mod:  10\n",
      "Modulus/Mod:  4\n",
      "Modulus/Mod:  1\n",
      "Modulus/Mod:  1.5\n"
     ]
    }
   ],
   "source": [
    "#1 Arithematic + - * / // % **\n",
    "a=10;b=20\n",
    "print(\"Add: \",a+b)\n",
    "print(\"Sub: \",a-b)\n",
    "print(\"Mul: \",a*b)\n",
    "print(\"Exponent: \",3**3)\n",
    "print(\"Div: \",a/b)\n",
    "print(\"Floor Div: \",a//b)\n",
    "print(\"Modulus/Mod: \",a%b) #when we divide any numerator \n",
    "#with small vslue by large num(denomarator) Numerator is returned in % Mod operator\n",
    "print(\"Modulus/Mod: \",4%5)\n",
    "print(\"Modulus/Mod: \",6%5)#otherwise reminder is returned\n",
    "print(\"Modulus/Mod: \",5.5%2)"
   ]
  },
  {
   "cell_type": "code",
   "execution_count": null,
   "metadata": {},
   "outputs": [],
   "source": []
  }
 ],
 "metadata": {
  "kernelspec": {
   "display_name": "Python 3",
   "language": "python",
   "name": "python3"
  },
  "language_info": {
   "codemirror_mode": {
    "name": "ipython",
    "version": 3
   },
   "file_extension": ".py",
   "mimetype": "text/x-python",
   "name": "python",
   "nbconvert_exporter": "python",
   "pygments_lexer": "ipython3",
   "version": "3.7.3"
  }
 },
 "nbformat": 4,
 "nbformat_minor": 2
}
