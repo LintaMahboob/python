{
 "cells": [
  {
   "cell_type": "code",
   "execution_count": 32,
   "metadata": {},
   "outputs": [],
   "source": [
    "#QR code scanner using python"
   ]
  },
  {
   "cell_type": "code",
   "execution_count": 33,
   "metadata": {},
   "outputs": [],
   "source": [
    "#!pip3 install IPython"
   ]
  },
  {
   "cell_type": "code",
   "execution_count": 34,
   "metadata": {},
   "outputs": [],
   "source": [
    "#!pip install QRCode\n",
    "# Import QRCode from pyqrcode \n",
    "import pyqrcode\n",
    "from pyqrcode import QRCode \n",
    "\n",
    "\n",
    "# String which represent the QR code \n",
    "s = \"https://github.com/pramod-sanghavi/\"\n",
    "\n",
    "# Generate QR code \n",
    "url = pyqrcode.create(s) \n",
    "\n",
    "# Create and save the png file naming \"myqr.svg\" \n",
    "url.svg(\"myqrcode.svg\", scale = 8) \n",
    "#it create .svg file in file location \n",
    "#Note: below is markdown code"
   ]
  },
  {
   "cell_type": "markdown",
   "metadata": {},
   "source": [
    "<img src=\"myqrcode.svg\" alt=\"file not found\"/>"
   ]
  },
  {
   "cell_type": "code",
   "execution_count": 35,
   "metadata": {},
   "outputs": [
    {
     "data": {
      "image/png": "[encoded data removed]",
      "text/plain": [
       "<IPython.core.display.Image object>"
      ]
     },
     "execution_count": 35,
     "metadata": {},
     "output_type": "execute_result"
    }
   ],
   "source": [
    "#!pip install qrcode\n",
    "import qrcode\n",
    "img = qrcode.make(data =\"Welcome to Python Python QR Generator\")\n",
    "img.save('MYQRCODE.png')\n",
    "#it create png image with given text in QR code\n",
    "\n",
    "#code to display image\n",
    "from IPython.display import Image\n",
    "Image(filename='MYQRCODE.png') "
   ]
  },
  {
   "cell_type": "raw",
   "metadata": {},
   "source": [
    "#code to display image\n",
    "from IPython.display import SVG, display\n",
    "def show_svg():\n",
    "    display(SVG(url='myqr.svg'))\n",
    "\n",
    "show_svg()"
   ]
  },
  {
   "cell_type": "raw",
   "metadata": {},
   "source": [
    "from pyqrcode import QRCode\n",
    "import sys\n",
    "url = QRCode('http://uca.edu')\n",
    "url.svg(sys.stdout, scale=1)\n",
    "url.svg('uca.svg', scale=4)\n",
    "number = QRCode(123456789012345)\n",
    "number.png('big-number.png')"
   ]
  },
  {
   "cell_type": "code",
   "execution_count": null,
   "metadata": {},
   "outputs": [],
   "source": []
  },
  {
   "cell_type": "code",
   "execution_count": null,
   "metadata": {},
   "outputs": [],
   "source": []
  }
 ],
 "metadata": {
  "kernelspec": {
   "display_name": "Python 3",
   "language": "python",
   "name": "python3"
  },
  "language_info": {
   "codemirror_mode": {
    "name": "ipython",
    "version": 3
   },
   "file_extension": ".py",
   "mimetype": "text/x-python",
   "name": "python",
   "nbconvert_exporter": "python",
   "pygments_lexer": "ipython3",
   "version": "3.7.3"
  }
 },
 "nbformat": 4,
 "nbformat_minor": 2
}
