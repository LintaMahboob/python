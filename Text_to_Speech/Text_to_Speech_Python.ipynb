{
 "cells": [
  {
   "cell_type": "markdown",
   "metadata": {},
   "source": [
    "<h1 style=\"color:Red\">Text to Speech conversion</h1>"
   ]
  },
  {
   "cell_type": "raw",
   "metadata": {},
   "source": [
    "!pip3 install gtts"
   ]
  },
  {
   "cell_type": "raw",
   "metadata": {},
   "source": [
    "!pip3 install playsound"
   ]
  },
  {
   "cell_type": "raw",
   "metadata": {},
   "source": [
    "!pip3 install vext.gi"
   ]
  },
  {
   "cell_type": "code",
   "execution_count": null,
   "metadata": {},
   "outputs": [],
   "source": [
    "#import imp Libraries \n",
    "from playsound import playsound\n",
    "from gtts import gTTS"
   ]
  },
  {
   "cell_type": "code",
   "execution_count": null,
   "metadata": {},
   "outputs": [],
   "source": [
    "#take input from user to convert into speech\n",
    "text = input(\"Enter a text to convert into speech : \")\n",
    "#using google text to speech(gTTS) convert given text to specified lang \n",
    "speech = gTTS(text=text,lang=\"mr\")  \n",
    "speech.save(\"myspeech.mp3\")#Save our speech into current directory \n",
    "playsound(\"myspeech.mp3\")# Read that file and play using play sound method"
   ]
  },
  {
   "cell_type": "markdown",
   "metadata": {},
   "source": [
    "#English: en, Marathi :  mr, Hindi:hi....\n",
    "for other visit below link\n",
    "https://github.com/pramod-sanghavi/python/blob/master/Text_to_Speech/ISO_Language_Code.txt\n"
   ]
  }
 ],
 "metadata": {
  "kernelspec": {
   "display_name": "Python 3",
   "language": "python",
   "name": "python3"
  },
  "language_info": {
   "codemirror_mode": {
    "name": "ipython",
    "version": 3
   },
   "file_extension": ".py",
   "mimetype": "text/x-python",
   "name": "python",
   "nbconvert_exporter": "python",
   "pygments_lexer": "ipython3",
   "version": "3.7.3"
  }
 },
 "nbformat": 4,
 "nbformat_minor": 2
}
