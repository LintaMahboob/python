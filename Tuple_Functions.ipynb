{
 "cells": [
  {
   "cell_type": "markdown",
   "metadata": {},
   "source": [
    "# Tuple Functons\n",
    "all ()\n",
    "any()\n",
    "enumarate()\n",
    "len()\n",
    "list()\n",
    "max()\n",
    "sum()"
   ]
  },
  {
   "cell_type": "markdown",
   "metadata": {},
   "source": [
    "# all()"
   ]
  },
  {
   "cell_type": "code",
   "execution_count": 1,
   "metadata": {},
   "outputs": [
    {
     "name": "stdout",
     "output_type": "stream",
     "text": [
      "True\n"
     ]
    }
   ],
   "source": [
    "s = (1,2,3,4)\n",
    "print(all(s))"
   ]
  },
  {
   "cell_type": "code",
   "execution_count": 3,
   "metadata": {},
   "outputs": [
    {
     "name": "stdout",
     "output_type": "stream",
     "text": [
      "False\n"
     ]
    }
   ],
   "source": [
    "s = (1,2,3,4,0)\n",
    "print(all(s))"
   ]
  },
  {
   "cell_type": "code",
   "execution_count": 4,
   "metadata": {},
   "outputs": [
    {
     "name": "stdout",
     "output_type": "stream",
     "text": [
      "False\n"
     ]
    }
   ],
   "source": [
    "s = (0,1)\n",
    "print(all(s))"
   ]
  },
  {
   "cell_type": "code",
   "execution_count": 7,
   "metadata": {},
   "outputs": [
    {
     "name": "stdout",
     "output_type": "stream",
     "text": [
      "False\n"
     ]
    }
   ],
   "source": [
    "s = (0)#TypeError: 'int' object is not iterable\n",
    "s = (0,)\n",
    "print(all(s))"
   ]
  },
  {
   "cell_type": "code",
   "execution_count": 9,
   "metadata": {},
   "outputs": [
    {
     "name": "stdout",
     "output_type": "stream",
     "text": [
      "False\n"
     ]
    }
   ],
   "source": [
    "s = (False) #TypeError: 'bool' object is not iterable\n",
    "s = (False,)\n",
    "print(all(s))"
   ]
  },
  {
   "cell_type": "code",
   "execution_count": 10,
   "metadata": {},
   "outputs": [
    {
     "name": "stdout",
     "output_type": "stream",
     "text": [
      "False\n"
     ]
    }
   ],
   "source": [
    "s = (0,False)\n",
    "print(all(s))"
   ]
  },
  {
   "cell_type": "code",
   "execution_count": 11,
   "metadata": {},
   "outputs": [
    {
     "name": "stdout",
     "output_type": "stream",
     "text": [
      "True\n"
     ]
    }
   ],
   "source": [
    "s = (1,2,True)\n",
    "print(all(s))"
   ]
  },
  {
   "cell_type": "code",
   "execution_count": 12,
   "metadata": {},
   "outputs": [
    {
     "name": "stdout",
     "output_type": "stream",
     "text": [
      "False\n"
     ]
    }
   ],
   "source": [
    "s = (0,False,5)\n",
    "print(all(s))"
   ]
  },
  {
   "cell_type": "code",
   "execution_count": 14,
   "metadata": {},
   "outputs": [
    {
     "name": "stdout",
     "output_type": "stream",
     "text": [
      "True\n"
     ]
    }
   ],
   "source": [
    "s = ()\n",
    "print(all(s))"
   ]
  },
  {
   "cell_type": "markdown",
   "metadata": {},
   "source": [
    "# any()"
   ]
  },
  {
   "cell_type": "code",
   "execution_count": 15,
   "metadata": {},
   "outputs": [
    {
     "name": "stdout",
     "output_type": "stream",
     "text": [
      "True\n"
     ]
    }
   ],
   "source": [
    "s = (1,2,3,4)\n",
    "print(any(s))"
   ]
  },
  {
   "cell_type": "code",
   "execution_count": 16,
   "metadata": {},
   "outputs": [
    {
     "name": "stdout",
     "output_type": "stream",
     "text": [
      "True\n"
     ]
    }
   ],
   "source": [
    "s = (1,2,3,False)\n",
    "print(any(s))"
   ]
  },
  {
   "cell_type": "code",
   "execution_count": 17,
   "metadata": {},
   "outputs": [
    {
     "name": "stdout",
     "output_type": "stream",
     "text": [
      "True\n"
     ]
    }
   ],
   "source": [
    "s = (1,2,3,0)\n",
    "print(any(s))"
   ]
  },
  {
   "cell_type": "code",
   "execution_count": 18,
   "metadata": {},
   "outputs": [
    {
     "name": "stdout",
     "output_type": "stream",
     "text": [
      "False\n"
     ]
    }
   ],
   "source": [
    "s = (0,)\n",
    "print(any(s))"
   ]
  },
  {
   "cell_type": "code",
   "execution_count": 19,
   "metadata": {},
   "outputs": [
    {
     "name": "stdout",
     "output_type": "stream",
     "text": [
      "False\n"
     ]
    }
   ],
   "source": [
    "s = (False,)\n",
    "print(any(s))"
   ]
  },
  {
   "cell_type": "code",
   "execution_count": 20,
   "metadata": {},
   "outputs": [
    {
     "name": "stdout",
     "output_type": "stream",
     "text": [
      "False\n"
     ]
    }
   ],
   "source": [
    "s = (0,False)\n",
    "print(any(s))"
   ]
  },
  {
   "cell_type": "code",
   "execution_count": 21,
   "metadata": {},
   "outputs": [
    {
     "name": "stdout",
     "output_type": "stream",
     "text": [
      "True\n"
     ]
    }
   ],
   "source": [
    "s = (0,False,5)\n",
    "print(any(s))"
   ]
  },
  {
   "cell_type": "code",
   "execution_count": 22,
   "metadata": {},
   "outputs": [
    {
     "name": "stdout",
     "output_type": "stream",
     "text": [
      "False\n"
     ]
    }
   ],
   "source": [
    "s = ()\n",
    "print(any(s))"
   ]
  },
  {
   "cell_type": "markdown",
   "metadata": {},
   "source": [
    "# Enumerate"
   ]
  },
  {
   "cell_type": "code",
   "execution_count": 24,
   "metadata": {},
   "outputs": [
    {
     "name": "stdout",
     "output_type": "stream",
     "text": [
      "<class 'enumerate'>\n",
      "<enumerate object at 0x03633300>\n",
      "((0, 'Big Data'), (1, 'Machine Learning'), (2, 'Haddop'), (3, 'Spark'))\n"
     ]
    }
   ],
   "source": [
    "Data = ('Big Data','Machine Learning','Haddop','Spark')\n",
    "eData = enumerate(Data)\n",
    "print(type(eData))\n",
    "print(eData)\n",
    "#print('eData[2]:',eData[2])\n",
    "print(tuple(eData))"
   ]
  },
  {
   "cell_type": "code",
   "execution_count": 25,
   "metadata": {},
   "outputs": [
    {
     "name": "stdout",
     "output_type": "stream",
     "text": [
      "<class 'enumerate'>\n",
      "<enumerate object at 0x0362AD50>\n",
      "((500, 'Big Data'), (501, 'Machine Learning'), (502, 'Haddop'), (503, 'Spark'))\n"
     ]
    }
   ],
   "source": [
    "Data = ('Big Data','Machine Learning','Haddop','Spark')\n",
    "eData = enumerate(Data,500)\n",
    "print(type(eData))\n",
    "print(eData)\n",
    "print(tuple(eData))"
   ]
  },
  {
   "cell_type": "code",
   "execution_count": 26,
   "metadata": {},
   "outputs": [
    {
     "name": "stdout",
     "output_type": "stream",
     "text": [
      "(0, 'Big Data')\n",
      "(1, 'Machine Learning')\n",
      "(2, 'Haddop')\n",
      "(3, 'Spark')\n"
     ]
    }
   ],
   "source": [
    "Data = ('Big Data','Machine Learning','Haddop','Spark')\n",
    "\n",
    "for data in enumerate(Data): #for loop Dont requied to convert enum to list\n",
    "    print(data)#bydefault it print in the form of tuple\n",
    " "
   ]
  },
  {
   "cell_type": "code",
   "execution_count": 27,
   "metadata": {},
   "outputs": [
    {
     "name": "stdout",
     "output_type": "stream",
     "text": [
      "[0, 'Big Data']\n",
      "[1, 'Machine Learning']\n",
      "[2, 'Haddop']\n",
      "[3, 'Spark']\n"
     ]
    }
   ],
   "source": [
    "#to print output in the form list\n",
    "Data = ('Big Data','Machine Learning','Haddop','Spark')\n",
    "\n",
    "for data in enumerate(Data): #for loop Dont requied to convert enum to list\n",
    "    print(list(data))"
   ]
  },
  {
   "cell_type": "code",
   "execution_count": 28,
   "metadata": {},
   "outputs": [
    {
     "name": "stdout",
     "output_type": "stream",
     "text": [
      "(500, 'Big Data')\n",
      "(501, 'Machine Learning')\n",
      "(502, 'Haddop')\n",
      "(503, 'Spark')\n"
     ]
    }
   ],
   "source": [
    "Data = ('Big Data','Machine Learning','Haddop','Spark')\n",
    "\n",
    "for data in enumerate(Data,500): #now indexinx start from 500\n",
    "    print(data)\n",
    "    \n",
    "#print(data[])"
   ]
  },
  {
   "cell_type": "code",
   "execution_count": 29,
   "metadata": {},
   "outputs": [
    {
     "name": "stdout",
     "output_type": "stream",
     "text": [
      "[500, 'Big Data']\n",
      "[501, 'Machine Learning']\n",
      "[502, 'Haddop']\n",
      "[503, 'Spark']\n"
     ]
    }
   ],
   "source": [
    "Data = ('Big Data','Machine Learning','Haddop','Spark')\n",
    "\n",
    "for data in enumerate(Data,500): #now indexinx start from 500\n",
    "    print(list(data))"
   ]
  },
  {
   "cell_type": "code",
   "execution_count": 30,
   "metadata": {},
   "outputs": [
    {
     "name": "stdout",
     "output_type": "stream",
     "text": [
      "500 Big Data\n",
      "501 Machine Learning\n",
      "502 Haddop\n",
      "503 Spark\n"
     ]
    }
   ],
   "source": [
    "Data = ('Big Data','Machine Learning','Haddop','Spark')\n",
    "\n",
    "for indx,data in enumerate(Data,500): #now indexinx start from 500\n",
    "    print(indx,data)"
   ]
  },
  {
   "cell_type": "markdown",
   "metadata": {},
   "source": [
    "# len()\n",
    "Finding the length of list"
   ]
  },
  {
   "cell_type": "code",
   "execution_count": 31,
   "metadata": {},
   "outputs": [
    {
     "name": "stdout",
     "output_type": "stream",
     "text": [
      "5\n"
     ]
    }
   ],
   "source": [
    "PyList = (1,2,3,4,5)\n",
    "print(len(PyList))"
   ]
  },
  {
   "cell_type": "markdown",
   "metadata": {},
   "source": [
    "# tuple()\n",
    "Converting to tuple Data type"
   ]
  },
  {
   "cell_type": "code",
   "execution_count": 32,
   "metadata": {},
   "outputs": [
    {
     "name": "stdout",
     "output_type": "stream",
     "text": [
      "PYTHON\n",
      "<class 'str'>\n",
      "(1, 2, 3, 4, 5)\n",
      "<class 'tuple'>\n"
     ]
    }
   ],
   "source": [
    "PyStr = \"PYTHON\"\n",
    "\n",
    "print(PyStr)\n",
    "print(type(PyStr))\n",
    "\n",
    "Pytuple = tuple(PyStr)\n",
    "\n",
    "print(PyList)\n",
    "print(type(PyList))"
   ]
  },
  {
   "cell_type": "markdown",
   "metadata": {},
   "source": [
    "# max()\n",
    "It is used to display max character based on ascii or Unicode value"
   ]
  },
  {
   "cell_type": "code",
   "execution_count": 34,
   "metadata": {},
   "outputs": [
    {
     "name": "stdout",
     "output_type": "stream",
     "text": [
      "4\n"
     ]
    }
   ],
   "source": [
    "PyTuple=(1,2,3,4)\n",
    "print(max(PyTuple))"
   ]
  },
  {
   "cell_type": "code",
   "execution_count": 35,
   "metadata": {},
   "outputs": [
    {
     "name": "stdout",
     "output_type": "stream",
     "text": [
      "c\n"
     ]
    }
   ],
   "source": [
    "PyTuple=('a',\"b\",'c','D')\n",
    "print(max(PyTuple))"
   ]
  },
  {
   "cell_type": "markdown",
   "metadata": {},
   "source": [
    "# min() \n",
    "It is used to display max character based on ascii or Unicode value"
   ]
  },
  {
   "cell_type": "code",
   "execution_count": 36,
   "metadata": {},
   "outputs": [
    {
     "name": "stdout",
     "output_type": "stream",
     "text": [
      "4\n",
      "c\n"
     ]
    }
   ],
   "source": [
    "PyTuple=(1,2,3,4)\n",
    "print(max(PyTuple))\n",
    "PyTuple=('a',\"b\",'c','D')\n",
    "print(max(PyTuple))"
   ]
  },
  {
   "cell_type": "markdown",
   "metadata": {},
   "source": [
    "# sum() \n",
    "It is used to sum of all values in the list NOTE: only for numerical values"
   ]
  },
  {
   "cell_type": "code",
   "execution_count": 37,
   "metadata": {},
   "outputs": [
    {
     "name": "stdout",
     "output_type": "stream",
     "text": [
      "15\n"
     ]
    }
   ],
   "source": [
    "PyTuple=(1,2,3,4,5)\n",
    "print(sum(PyTuple))"
   ]
  },
  {
   "cell_type": "code",
   "execution_count": null,
   "metadata": {},
   "outputs": [],
   "source": []
  }
 ],
 "metadata": {
  "kernelspec": {
   "display_name": "Python 3",
   "language": "python",
   "name": "python3"
  },
  "language_info": {
   "codemirror_mode": {
    "name": "ipython",
    "version": 3
   },
   "file_extension": ".py",
   "mimetype": "text/x-python",
   "name": "python",
   "nbconvert_exporter": "python",
   "pygments_lexer": "ipython3",
   "version": "3.7.3"
  }
 },
 "nbformat": 4,
 "nbformat_minor": 2
}
