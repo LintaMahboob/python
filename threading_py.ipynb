{
 "cells": [
  {
   "cell_type": "code",
   "execution_count": 14,
   "metadata": {},
   "outputs": [
    {
     "name": "stdout",
     "output_type": "stream",
     "text": [
      "Computing sqr of a num:Computing cube of a num:\n",
      "\n",
      "cube: 1\n",
      "Sqr: 1\n",
      "cube:Sqr: 8\n",
      " 4\n",
      "cube: 27\n",
      "Sqr: 9\n",
      "cube: 64\n",
      "Sqr: 16\n",
      "cube: 125\n",
      "Sqr: 25\n",
      "Tot time 1.5090363025665283\n"
     ]
    }
   ],
   "source": [
    "import time\n",
    "import threading\n",
    "\n",
    "def cal_sqr(num):\n",
    "    print(\"Computing sqr of a num:\")\n",
    "    for n in num:\n",
    "        time.sleep(0.3)\n",
    "        print(\"Sqr:\",n*n)\n",
    "        \n",
    "def cal_cube(num):\n",
    "    print(\"Computing cube of a num:\")\n",
    "    for n in num:\n",
    "        time.sleep(0.3)\n",
    "        print(\"cube:\",n*n*n)\n",
    "\n",
    "arr = [1,2,3,4,5]\n",
    "if __name__ == \"__main__\": \n",
    "    t = time.time()\n",
    "    t1 = threading.Thread(target=cal_sqr,args=(arr,))\n",
    "    t2 = threading.Thread(target=cal_cube,args=(arr,))\n",
    "    t1.start()\n",
    "    t2.start()\n",
    "    t1.join()\n",
    "    t2.join()\n",
    "    print(\"Tot time\",time.time()-t)\n"
   ]
  },
  {
   "cell_type": "code",
   "execution_count": null,
   "metadata": {},
   "outputs": [],
   "source": []
  }
 ],
 "metadata": {
  "kernelspec": {
   "display_name": "Python 3",
   "language": "python",
   "name": "python3"
  },
  "language_info": {
   "codemirror_mode": {
    "name": "ipython",
    "version": 3
   },
   "file_extension": ".py",
   "mimetype": "text/x-python",
   "name": "python",
   "nbconvert_exporter": "python",
   "pygments_lexer": "ipython3",
   "version": "3.7.3"
  }
 },
 "nbformat": 4,
 "nbformat_minor": 2
}
